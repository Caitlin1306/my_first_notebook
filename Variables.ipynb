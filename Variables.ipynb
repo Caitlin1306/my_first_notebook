{
 "cells": [
  {
   "cell_type": "markdown",
   "source": "# Variables",
   "metadata": {
    "cell_id": "00f6826c-67bc-4f3a-bc57-0b0071cbddb1",
    "tags": [],
    "deepnote_cell_type": "markdown",
    "deepnote_cell_height": 82
   }
  },
  {
   "cell_type": "markdown",
   "source": "## 1. Defining variables (integers, floats, Booleans and strings)",
   "metadata": {
    "cell_id": "39787132-087d-4357-a6de-360b5ba31d99",
    "tags": [],
    "deepnote_cell_type": "markdown",
    "deepnote_cell_height": 110
   }
  },
  {
   "cell_type": "markdown",
   "source": "> 👌 You can explore any Python variable with `help()` and `type()`",
   "metadata": {
    "cell_id": "80a7f15e-5fdc-48e4-810e-17b8e023bd85",
    "tags": [],
    "deepnote_cell_type": "markdown",
    "deepnote_cell_height": 66.390625
   }
  },
  {
   "cell_type": "code",
   "metadata": {
    "tags": [],
    "cell_id": "2ca2e002-5136-499f-8910-fcfad3876fb3",
    "deepnote_to_be_reexecuted": false,
    "source_hash": "cc02e9f1",
    "execution_start": 1663073820624,
    "execution_millis": 3802,
    "deepnote_cell_type": "code",
    "deepnote_cell_height": 94
   },
   "source": "num = 3 # makes variable a and assigns value 2 to it\n",
   "execution_count": 1,
   "outputs": []
  },
  {
   "cell_type": "code",
   "metadata": {
    "cell_id": "76c65d22-e50b-49d1-855b-b527f2e1402c",
    "tags": [],
    "deepnote_to_be_reexecuted": false,
    "source_hash": "e8496ba3",
    "execution_start": 1663073820624,
    "execution_millis": 503,
    "deepnote_cell_type": "code",
    "deepnote_cell_height": 112.1875,
    "deepnote_output_heights": [
     20.1875
    ]
   },
   "source": "int('3')",
   "execution_count": 2,
   "outputs": [
    {
     "output_type": "execute_result",
     "execution_count": 2,
     "data": {
      "text/plain": "3"
     },
     "metadata": {}
    }
   ]
  },
  {
   "cell_type": "code",
   "metadata": {
    "cell_id": "bb2b3ec0-40c6-48e7-b283-e4109d39a575",
    "tags": [],
    "deepnote_to_be_reexecuted": false,
    "source_hash": "24a14004",
    "execution_start": 1663073820625,
    "execution_millis": 505,
    "deepnote_cell_type": "code",
    "deepnote_cell_height": 696
   },
   "source": "help(num)",
   "execution_count": 3,
   "outputs": [
    {
     "name": "stdout",
     "text": "Help on int object:\n\nclass int(object)\n |  int([x]) -> integer\n |  int(x, base=10) -> integer\n |  \n |  Convert a number or string to an integer, or return 0 if no arguments\n |  are given.  If x is a number, return x.__int__().  For floating point\n |  numbers, this truncates towards zero.\n |  \n |  If x is not a number or if base is given, then x must be a string,\n |  bytes, or bytearray instance representing an integer literal in the\n |  given base.  The literal can be preceded by '+' or '-' and be surrounded\n |  by whitespace.  The base defaults to 10.  Valid bases are 0 and 2-36.\n |  Base 0 means to interpret the base from the string as an integer literal.\n |  >>> int('0b100', base=0)\n |  4\n |  \n |  Methods defined here:\n |  \n |  __abs__(self, /)\n |      abs(self)\n |  \n |  __add__(self, value, /)\n |      Return self+value.\n |  \n |  __and__(self, value, /)\n |      Return self&value.\n |  \n |  __bool__(self, /)\n |      self != 0\n |  \n |  __ceil__(...)\n |      Ceiling of an Integral returns itself.\n |  \n |  __divmod__(self, value, /)\n |      Return divmod(self, value).\n |  \n |  __eq__(self, value, /)\n |      Return self==value.\n |  \n |  __float__(self, /)\n |      float(self)\n |  \n |  __floor__(...)\n |      Flooring an Integral returns itself.\n |  \n |  __floordiv__(self, value, /)\n |      Return self//value.\n |  \n |  __format__(self, format_spec, /)\n |      Default object formatter.\n |  \n |  __ge__(self, value, /)\n |      Return self>=value.\n |  \n |  __getattribute__(self, name, /)\n |      Return getattr(self, name).\n |  \n |  __getnewargs__(self, /)\n |  \n |  __gt__(self, value, /)\n |      Return self>value.\n |  \n |  __hash__(self, /)\n |      Return hash(self).\n |  \n |  __index__(self, /)\n |      Return self converted to an integer, if self is suitable for use as an index into a list.\n |  \n |  __int__(self, /)\n |      int(self)\n |  \n |  __invert__(self, /)\n |      ~self\n |  \n |  __le__(self, value, /)\n |      Return self<=value.\n |  \n |  __lshift__(self, value, /)\n |      Return self<<value.\n |  \n |  __lt__(self, value, /)\n |      Return self<value.\n |  \n |  __mod__(self, value, /)\n |      Return self%value.\n |  \n |  __mul__(self, value, /)\n |      Return self*value.\n |  \n |  __ne__(self, value, /)\n |      Return self!=value.\n |  \n |  __neg__(self, /)\n |      -self\n |  \n |  __or__(self, value, /)\n |      Return self|value.\n |  \n |  __pos__(self, /)\n |      +self\n |  \n |  __pow__(self, value, mod=None, /)\n |      Return pow(self, value, mod).\n |  \n |  __radd__(self, value, /)\n |      Return value+self.\n |  \n |  __rand__(self, value, /)\n |      Return value&self.\n |  \n |  __rdivmod__(self, value, /)\n |      Return divmod(value, self).\n |  \n |  __repr__(self, /)\n |      Return repr(self).\n |  \n |  __rfloordiv__(self, value, /)\n |      Return value//self.\n |  \n |  __rlshift__(self, value, /)\n |      Return value<<self.\n |  \n |  __rmod__(self, value, /)\n |      Return value%self.\n |  \n |  __rmul__(self, value, /)\n |      Return value*self.\n |  \n |  __ror__(self, value, /)\n |      Return value|self.\n |  \n |  __round__(...)\n |      Rounding an Integral returns itself.\n |      Rounding with an ndigits argument also returns an integer.\n |  \n |  __rpow__(self, value, mod=None, /)\n |      Return pow(value, self, mod).\n |  \n |  __rrshift__(self, value, /)\n |      Return value>>self.\n |  \n |  __rshift__(self, value, /)\n |      Return self>>value.\n |  \n |  __rsub__(self, value, /)\n |      Return value-self.\n |  \n |  __rtruediv__(self, value, /)\n |      Return value/self.\n |  \n |  __rxor__(self, value, /)\n |      Return value^self.\n |  \n |  __sizeof__(self, /)\n |      Returns size in memory, in bytes.\n |  \n |  __str__(self, /)\n |      Return str(self).\n |  \n |  __sub__(self, value, /)\n |      Return self-value.\n |  \n |  __truediv__(self, value, /)\n |      Return self/value.\n |  \n |  __trunc__(...)\n |      Truncating an Integral returns itself.\n |  \n |  __xor__(self, value, /)\n |      Return self^value.\n |  \n |  bit_length(self, /)\n |      Number of bits necessary to represent self in binary.\n |      \n |      >>> bin(37)\n |      '0b100101'\n |      >>> (37).bit_length()\n |      6\n |  \n |  conjugate(...)\n |      Returns self, the complex conjugate of any int.\n |  \n |  to_bytes(self, /, length, byteorder, *, signed=False)\n |      Return an array of bytes representing an integer.\n |      \n |      length\n |        Length of bytes object to use.  An OverflowError is raised if the\n |        integer is not representable with the given number of bytes.\n |      byteorder\n |        The byte order used to represent the integer.  If byteorder is 'big',\n |        the most significant byte is at the beginning of the byte array.  If\n |        byteorder is 'little', the most significant byte is at the end of the\n |        byte array.  To request the native byte order of the host system, use\n |        `sys.byteorder' as the byte order value.\n |      signed\n |        Determines whether two's complement is used to represent the integer.\n |        If signed is False and a negative integer is given, an OverflowError\n |        is raised.\n |  \n |  ----------------------------------------------------------------------\n |  Class methods defined here:\n |  \n |  from_bytes(bytes, byteorder, *, signed=False) from builtins.type\n |      Return the integer represented by the given array of bytes.\n |      \n |      bytes\n |        Holds the array of bytes to convert.  The argument must either\n |        support the buffer protocol or be an iterable object producing bytes.\n |        Bytes and bytearray are examples of built-in objects that support the\n |        buffer protocol.\n |      byteorder\n |        The byte order used to represent the integer.  If byteorder is 'big',\n |        the most significant byte is at the beginning of the byte array.  If\n |        byteorder is 'little', the most significant byte is at the end of the\n |        byte array.  To request the native byte order of the host system, use\n |        `sys.byteorder' as the byte order value.\n |      signed\n |        Indicates whether two's complement is used to represent the integer.\n |  \n |  ----------------------------------------------------------------------\n |  Static methods defined here:\n |  \n |  __new__(*args, **kwargs) from builtins.type\n |      Create and return a new object.  See help(type) for accurate signature.\n |  \n |  ----------------------------------------------------------------------\n |  Data descriptors defined here:\n |  \n |  denominator\n |      the denominator of a rational number in lowest terms\n |  \n |  imag\n |      the imaginary part of a complex number\n |  \n |  numerator\n |      the numerator of a rational number in lowest terms\n |  \n |  real\n |      the real part of a complex number\n\n",
     "output_type": "stream"
    }
   ]
  },
  {
   "cell_type": "code",
   "metadata": {
    "cell_id": "e5e6e51f-ac9f-49c7-aa58-28742fe4db43",
    "tags": [],
    "deepnote_to_be_reexecuted": false,
    "source_hash": "8c2c2fbb",
    "execution_start": 1663073820643,
    "execution_millis": 5,
    "deepnote_cell_type": "code",
    "deepnote_cell_height": 76
   },
   "source": "b = 2.3",
   "execution_count": 4,
   "outputs": []
  },
  {
   "cell_type": "code",
   "metadata": {
    "cell_id": "d0f0ac5d-55e7-4c11-9805-941a3fde2b22",
    "tags": [],
    "deepnote_to_be_reexecuted": false,
    "source_hash": "5a767791",
    "execution_start": 1663073820668,
    "execution_millis": 471,
    "deepnote_cell_type": "code",
    "deepnote_cell_height": 112.1875,
    "deepnote_output_heights": [
     20.1875
    ]
   },
   "source": "type(b)",
   "execution_count": 5,
   "outputs": [
    {
     "output_type": "execute_result",
     "execution_count": 5,
     "data": {
      "text/plain": "float"
     },
     "metadata": {}
    }
   ]
  },
  {
   "cell_type": "code",
   "metadata": {
    "cell_id": "1dc06010-cde8-4938-b853-8a86f14ac463",
    "tags": [],
    "deepnote_to_be_reexecuted": false,
    "source_hash": "33bd95a3",
    "execution_start": 1663073820668,
    "execution_millis": 471,
    "deepnote_cell_type": "code",
    "deepnote_cell_height": 135.1875,
    "deepnote_output_heights": [
     20.1875
    ]
   },
   "source": "c = num + b # you can assign operations on variables to other variables\nc # in Deepnote you do not have to type print, you can simply type the name of the variable",
   "execution_count": 6,
   "outputs": [
    {
     "output_type": "execute_result",
     "execution_count": 6,
     "data": {
      "text/plain": "5.3"
     },
     "metadata": {}
    }
   ]
  },
  {
   "cell_type": "code",
   "metadata": {
    "cell_id": "a4cf0c63-719e-488a-b6f9-58c1ccd4a7a4",
    "tags": [],
    "deepnote_to_be_reexecuted": false,
    "source_hash": "44ba13ab",
    "execution_start": 1663073820669,
    "execution_millis": 472,
    "deepnote_cell_type": "code",
    "deepnote_cell_height": 112.1875,
    "deepnote_output_heights": [
     20.1875
    ]
   },
   "source": "type(c)",
   "execution_count": 7,
   "outputs": [
    {
     "output_type": "execute_result",
     "execution_count": 7,
     "data": {
      "text/plain": "float"
     },
     "metadata": {}
    }
   ]
  },
  {
   "cell_type": "code",
   "metadata": {
    "cell_id": "ea1de5c7-e55f-4374-9f9c-6b22ef9de8d5",
    "tags": [],
    "deepnote_to_be_reexecuted": false,
    "source_hash": "d9d36c9e",
    "execution_start": 1663073820703,
    "execution_millis": 450,
    "deepnote_cell_type": "code",
    "deepnote_cell_height": 130.1875,
    "deepnote_output_heights": [
     20.1875
    ]
   },
   "source": "d = -3.2\ntype(d)",
   "execution_count": 8,
   "outputs": [
    {
     "output_type": "execute_result",
     "execution_count": 8,
     "data": {
      "text/plain": "float"
     },
     "metadata": {}
    }
   ]
  },
  {
   "cell_type": "code",
   "metadata": {
    "cell_id": "bc84531e-70d2-42c9-84fd-8587953f6324",
    "tags": [],
    "deepnote_to_be_reexecuted": false,
    "source_hash": "6905d703",
    "execution_start": 1663073820704,
    "execution_millis": 0,
    "deepnote_cell_type": "code",
    "deepnote_cell_height": 76
   },
   "source": "ch = \"a\"",
   "execution_count": 9,
   "outputs": []
  },
  {
   "cell_type": "code",
   "metadata": {
    "cell_id": "ae6a10a5-04ef-4a69-9151-5afd53358ad6",
    "tags": [],
    "deepnote_to_be_reexecuted": false,
    "source_hash": "e595b597",
    "execution_start": 1663073820705,
    "execution_millis": 448,
    "deepnote_cell_type": "code",
    "deepnote_cell_height": 112.1875,
    "deepnote_output_heights": [
     20.1875
    ]
   },
   "source": "type(ch)",
   "execution_count": 10,
   "outputs": [
    {
     "output_type": "execute_result",
     "execution_count": 10,
     "data": {
      "text/plain": "str"
     },
     "metadata": {}
    }
   ]
  },
  {
   "cell_type": "code",
   "metadata": {
    "cell_id": "e7ee19aa-88fe-478f-898e-a619fd26968b",
    "tags": [],
    "deepnote_to_be_reexecuted": false,
    "source_hash": "5dd14233",
    "execution_start": 1663073820706,
    "execution_millis": 2,
    "deepnote_cell_type": "code",
    "deepnote_cell_height": 76
   },
   "source": "s = \"Hello \"",
   "execution_count": 11,
   "outputs": []
  },
  {
   "cell_type": "code",
   "metadata": {
    "cell_id": "97ae1b31-4ebc-4559-b414-9298763ec330",
    "tags": [],
    "deepnote_to_be_reexecuted": false,
    "source_hash": "a626e052",
    "execution_start": 1663073820710,
    "execution_millis": 468,
    "deepnote_cell_type": "code",
    "deepnote_cell_height": 112.1875,
    "deepnote_output_heights": [
     20.1875
    ]
   },
   "source": "type(s)",
   "execution_count": 12,
   "outputs": [
    {
     "output_type": "execute_result",
     "execution_count": 12,
     "data": {
      "text/plain": "str"
     },
     "metadata": {}
    }
   ]
  },
  {
   "cell_type": "code",
   "metadata": {
    "cell_id": "e4ab7203-6ea9-48ae-9fa8-77dfb037f93c",
    "tags": [],
    "deepnote_to_be_reexecuted": false,
    "source_hash": "8feb3002",
    "execution_start": 1663073820734,
    "execution_millis": 446,
    "deepnote_cell_type": "code",
    "deepnote_cell_height": 130.1875,
    "deepnote_output_heights": [
     20.1875
    ]
   },
   "source": "my_sentence = s + 'Katia' #Concatenation\nmy_sentence",
   "execution_count": 13,
   "outputs": [
    {
     "output_type": "execute_result",
     "execution_count": 13,
     "data": {
      "text/plain": "'Hello Katia'"
     },
     "metadata": {}
    }
   ]
  },
  {
   "cell_type": "code",
   "metadata": {
    "cell_id": "01f95237-f260-42fc-bdd1-c159ba217dc9",
    "tags": [],
    "deepnote_to_be_reexecuted": false,
    "source_hash": "b1117054",
    "execution_start": 1663073820734,
    "execution_millis": 446,
    "deepnote_cell_type": "code",
    "deepnote_cell_height": 130.1875,
    "deepnote_output_heights": [
     20.1875
    ]
   },
   "source": "my_Boolean = True\ntype(my_Boolean)",
   "execution_count": 14,
   "outputs": [
    {
     "output_type": "execute_result",
     "execution_count": 14,
     "data": {
      "text/plain": "bool"
     },
     "metadata": {}
    }
   ]
  },
  {
   "cell_type": "code",
   "metadata": {
    "cell_id": "829c41be-16a7-4938-b237-87e735a21a54",
    "tags": [],
    "deepnote_to_be_reexecuted": false,
    "source_hash": "9a6d19d4",
    "execution_start": 1663073820735,
    "execution_millis": 1,
    "deepnote_cell_type": "code",
    "deepnote_cell_height": 76
   },
   "source": "my_int = 4",
   "execution_count": 15,
   "outputs": []
  },
  {
   "cell_type": "markdown",
   "source": "## 2. Rules for variable names\n\n- names can not start with a number\n- names can not contain spaces, use _ intead\n- names can not contain any of these symbols:\n    :'\",<>/?|\\!@#%^&*~-+\n- it's considered best practice ([PEP8](https://www.python.org/dev/peps/pep-0008/#function-and-variable-names)) that names are lowercase with underscores\n- you must not use Python built-in keywords like `list` and `str`\n- avoid using the single characters `l` (lowercase letter el), `O` (uppercase letter oh) and `I` (uppercase letter eye) as they can be confused with `1` and `0`",
   "metadata": {
    "cell_id": "554d22f0-19a5-4bfe-a4c8-35f790997de3",
    "tags": [],
    "deepnote_cell_type": "markdown",
    "deepnote_cell_height": 294.15625
   }
  },
  {
   "cell_type": "markdown",
   "source": "## 🏋️🏋️ **In pairs** or individually 🏋️\n\n- rename variables above to follow Python naming rules\n- fix the bugs in code blocks below\n- create a variables that contains value 78 and find its data type\n- create a variables that contains value -78 and find its data type\n- create a variables that contains value 1.09 and find its data type\n- create a variables that contains value -1.09 and find its data type\n- create a string variable with your name",
   "metadata": {
    "cell_id": "94745dc4-c815-4779-b99f-4c88ceff39aa",
    "tags": [],
    "deepnote_cell_type": "markdown",
    "deepnote_cell_height": 274.765625
   }
  },
  {
   "cell_type": "code",
   "metadata": {
    "cell_id": "231286e0-04a7-4cf2-8c98-3ed926c110dc",
    "tags": [],
    "deepnote_to_be_reexecuted": false,
    "source_hash": "8d8146af",
    "execution_start": 1663073820739,
    "execution_millis": 1,
    "deepnote_cell_type": "code",
    "deepnote_cell_height": 76
   },
   "source": "my_variable = True",
   "execution_count": 16,
   "outputs": []
  },
  {
   "cell_type": "code",
   "metadata": {
    "cell_id": "f233d260-09d1-4d6d-bfdf-8f36094a17fe",
    "tags": [],
    "deepnote_to_be_reexecuted": false,
    "source_hash": "da3c0deb",
    "execution_start": 1663073820749,
    "execution_millis": 1,
    "deepnote_cell_type": "code",
    "deepnote_cell_height": 76
   },
   "source": "fourtheloveofcode = \"Hello world\"",
   "execution_count": 17,
   "outputs": []
  },
  {
   "cell_type": "code",
   "metadata": {
    "cell_id": "71ac2432-2ddc-4c1d-afb2-ff4a2658ec2f",
    "tags": [],
    "deepnote_to_be_reexecuted": false,
    "source_hash": "f10bfa1e",
    "execution_start": 1663073820769,
    "execution_millis": 1,
    "deepnote_cell_type": "code",
    "deepnote_cell_height": 76
   },
   "source": "mine_and_yours = \"Our budget\"",
   "execution_count": 18,
   "outputs": []
  },
  {
   "cell_type": "code",
   "metadata": {
    "cell_id": "fce5b94c-b75a-4b26-aa2c-b5d41ea4feea",
    "tags": [],
    "deepnote_to_be_reexecuted": false,
    "source_hash": "b8d8aec1",
    "execution_start": 1663073820770,
    "execution_millis": 0,
    "deepnote_cell_type": "code",
    "deepnote_cell_height": 76
   },
   "source": "my_string = \"Hello world\"",
   "execution_count": 19,
   "outputs": []
  },
  {
   "cell_type": "code",
   "metadata": {
    "cell_id": "23f91b9e-6ad2-496a-9d75-65e90699360c",
    "tags": [],
    "deepnote_to_be_reexecuted": false,
    "source_hash": "b8d8aec1",
    "execution_start": 1663073820771,
    "execution_millis": 0,
    "deepnote_cell_type": "code",
    "deepnote_cell_height": 76
   },
   "source": "my_string = \"Hello world\"",
   "execution_count": 20,
   "outputs": []
  },
  {
   "cell_type": "code",
   "metadata": {
    "cell_id": "4afe59e0-2b33-4e0a-88dd-2e9dce692d87",
    "tags": [],
    "deepnote_to_be_reexecuted": false,
    "source_hash": "b8d8aec1",
    "execution_start": 1663073820772,
    "execution_millis": 0,
    "deepnote_cell_type": "code",
    "deepnote_cell_height": 76
   },
   "source": "my_string = \"Hello world\"",
   "execution_count": 21,
   "outputs": []
  },
  {
   "cell_type": "code",
   "metadata": {
    "cell_id": "b8eaef69-747f-42a5-93c9-9f1dcfed687a",
    "tags": [],
    "deepnote_to_be_reexecuted": false,
    "source_hash": "e6db19a0",
    "execution_start": 1663073820773,
    "execution_millis": 0,
    "deepnote_cell_type": "code",
    "deepnote_cell_height": 76
   },
   "source": "my_book = \"Katia's book\"",
   "execution_count": 22,
   "outputs": []
  },
  {
   "cell_type": "markdown",
   "source": "## 3. Reassigning Variables\nPython lets you reassign variables.\n\nPython uses *dynamic typing*, meaning you can reassign variables to different data types. This makes Python flexible in assigning data types; it differs from languages that are *statically typed* and do no allow changing strings to integers.",
   "metadata": {
    "cell_id": "d2375d54-665a-4183-9ec2-8e06f9fc04d1",
    "tags": [],
    "deepnote_cell_type": "markdown",
    "deepnote_cell_height": 189.578125
   }
  },
  {
   "cell_type": "code",
   "metadata": {
    "cell_id": "ce0b8bcf-1a88-47dd-adf5-ab778b761f3b",
    "tags": [],
    "deepnote_to_be_reexecuted": false,
    "source_hash": "368c06ca",
    "execution_start": 1663073820789,
    "execution_millis": 393,
    "deepnote_cell_type": "code",
    "deepnote_cell_height": 148.1875,
    "deepnote_output_heights": [
     20.1875
    ]
   },
   "source": "my_integer = 6\nmy_integer = my_integer+1\nmy_integer",
   "execution_count": 23,
   "outputs": [
    {
     "output_type": "execute_result",
     "execution_count": 23,
     "data": {
      "text/plain": "7"
     },
     "metadata": {}
    }
   ]
  },
  {
   "cell_type": "code",
   "metadata": {
    "cell_id": "00018-8bf69842-0070-48a9-9fc2-940fda449b94",
    "tags": [],
    "deepnote_to_be_reexecuted": false,
    "source_hash": "b58755f6",
    "allow_embed": false,
    "execution_start": 1663073820790,
    "execution_millis": 393,
    "deepnote_cell_type": "code",
    "deepnote_cell_height": 130.1875,
    "deepnote_output_heights": [
     20.1875
    ]
   },
   "source": "my_number = 6\ntype(my_number)",
   "execution_count": 24,
   "outputs": [
    {
     "output_type": "execute_result",
     "execution_count": 24,
     "data": {
      "text/plain": "int"
     },
     "metadata": {}
    }
   ]
  },
  {
   "cell_type": "code",
   "metadata": {
    "cell_id": "8567b885-78f5-49a6-a53a-9a276c97f297",
    "tags": [],
    "deepnote_to_be_reexecuted": false,
    "source_hash": "36ec9f2e",
    "execution_start": 1663073820791,
    "execution_millis": 392,
    "deepnote_cell_type": "code",
    "deepnote_cell_height": 130.1875,
    "deepnote_output_heights": [
     20.1875
    ]
   },
   "source": "my_number = my_number+0.5\ntype(my_number)",
   "execution_count": 25,
   "outputs": [
    {
     "output_type": "execute_result",
     "execution_count": 25,
     "data": {
      "text/plain": "float"
     },
     "metadata": {}
    }
   ]
  },
  {
   "cell_type": "markdown",
   "source": "There are shortcuts for incrementing values. Python lets you add, subtract, multiply and divide numbers with reassignment using `+=`, `-=`, `*=`, and `/=`.",
   "metadata": {
    "cell_id": "97ecb1a6-f7c5-457e-8488-17e6fdec0c7f",
    "tags": [],
    "deepnote_cell_type": "markdown",
    "deepnote_cell_height": 74.78125
   }
  },
  {
   "cell_type": "code",
   "metadata": {
    "cell_id": "60979035-17a8-43f6-8395-26b9abc450e9",
    "tags": [],
    "deepnote_to_be_reexecuted": false,
    "source_hash": "6ec53119",
    "execution_start": 1663073820793,
    "execution_millis": 391,
    "deepnote_cell_type": "code",
    "deepnote_cell_height": 220.1875,
    "deepnote_output_heights": [
     20.1875
    ]
   },
   "source": "my_counter = 10\nmy_counter -= 1\nmy_counter -= 1\nmy_counter -= 1\nmy_counter -= 1\nmy_counter -= 1\nmy_counter",
   "execution_count": 26,
   "outputs": [
    {
     "output_type": "execute_result",
     "execution_count": 26,
     "data": {
      "text/plain": "5"
     },
     "metadata": {}
    }
   ]
  },
  {
   "cell_type": "markdown",
   "source": "## 🏋️🏋️ **In pairs** or individually 🏋️\n\n- create variables length and width, calculate area and print it\n- create a string variable, change it into a Boolean",
   "metadata": {
    "cell_id": "00019-e6b02ab1-02e0-491b-912b-a298a5220103",
    "tags": [],
    "deepnote_cell_type": "markdown",
    "deepnote_cell_height": 147.78125
   }
  },
  {
   "cell_type": "code",
   "source": "length=int(input('please enter length:'))\nwidth=int(input('please enter width:'))\n\n#Calculate the area\narea=length*width\n\nprint(\"The area using\", length, \"and\", width, \" = \" , area)",
   "metadata": {
    "cell_id": "837003bddfa04471b54d049b3cc537ba",
    "tags": [],
    "deepnote_to_be_reexecuted": false,
    "source_hash": "dd56d115",
    "execution_start": 1663073820797,
    "execution_millis": 10972,
    "deepnote_cell_type": "code",
    "deepnote_cell_height": 247.1875
   },
   "execution_count": 27,
   "outputs": [
    {
     "output_type": "error",
     "ename": "KeyboardInterrupt",
     "evalue": "Interrupted by user",
     "traceback": [
      "\u001b[0;31m---------------------------------------------------------------------------\u001b[0m",
      "\u001b[0;31mKeyboardInterrupt\u001b[0m                         Traceback (most recent call last)",
      "\u001b[0;32m/tmp/ipykernel_1348/550321604.py\u001b[0m in \u001b[0;36m<module>\u001b[0;34m\u001b[0m\n\u001b[0;32m----> 1\u001b[0;31m \u001b[0mlength\u001b[0m\u001b[0;34m=\u001b[0m\u001b[0mint\u001b[0m\u001b[0;34m(\u001b[0m\u001b[0minput\u001b[0m\u001b[0;34m(\u001b[0m\u001b[0;34m'please enter length:'\u001b[0m\u001b[0;34m)\u001b[0m\u001b[0;34m)\u001b[0m\u001b[0;34m\u001b[0m\u001b[0;34m\u001b[0m\u001b[0m\n\u001b[0m\u001b[1;32m      2\u001b[0m \u001b[0mwidth\u001b[0m\u001b[0;34m=\u001b[0m\u001b[0mint\u001b[0m\u001b[0;34m(\u001b[0m\u001b[0minput\u001b[0m\u001b[0;34m(\u001b[0m\u001b[0;34m'please enter width:'\u001b[0m\u001b[0;34m)\u001b[0m\u001b[0;34m)\u001b[0m\u001b[0;34m\u001b[0m\u001b[0;34m\u001b[0m\u001b[0m\n\u001b[1;32m      3\u001b[0m \u001b[0;34m\u001b[0m\u001b[0m\n\u001b[1;32m      4\u001b[0m \u001b[0;31m#Calculate the area\u001b[0m\u001b[0;34m\u001b[0m\u001b[0;34m\u001b[0m\u001b[0;34m\u001b[0m\u001b[0m\n\u001b[1;32m      5\u001b[0m \u001b[0marea\u001b[0m\u001b[0;34m=\u001b[0m\u001b[0mlength\u001b[0m\u001b[0;34m*\u001b[0m\u001b[0mwidth\u001b[0m\u001b[0;34m\u001b[0m\u001b[0;34m\u001b[0m\u001b[0m\n",
      "\u001b[0;32m/shared-libs/python3.7/py-core/lib/python3.7/site-packages/ipykernel/kernelbase.py\u001b[0m in \u001b[0;36mraw_input\u001b[0;34m(self, prompt)\u001b[0m\n\u001b[1;32m   1179\u001b[0m             \u001b[0mself\u001b[0m\u001b[0;34m.\u001b[0m\u001b[0m_parent_ident\u001b[0m\u001b[0;34m[\u001b[0m\u001b[0;34m\"shell\"\u001b[0m\u001b[0;34m]\u001b[0m\u001b[0;34m,\u001b[0m\u001b[0;34m\u001b[0m\u001b[0;34m\u001b[0m\u001b[0m\n\u001b[1;32m   1180\u001b[0m             \u001b[0mself\u001b[0m\u001b[0;34m.\u001b[0m\u001b[0mget_parent\u001b[0m\u001b[0;34m(\u001b[0m\u001b[0;34m\"shell\"\u001b[0m\u001b[0;34m)\u001b[0m\u001b[0;34m,\u001b[0m\u001b[0;34m\u001b[0m\u001b[0;34m\u001b[0m\u001b[0m\n\u001b[0;32m-> 1181\u001b[0;31m             \u001b[0mpassword\u001b[0m\u001b[0;34m=\u001b[0m\u001b[0;32mFalse\u001b[0m\u001b[0;34m,\u001b[0m\u001b[0;34m\u001b[0m\u001b[0;34m\u001b[0m\u001b[0m\n\u001b[0m\u001b[1;32m   1182\u001b[0m         )\n\u001b[1;32m   1183\u001b[0m \u001b[0;34m\u001b[0m\u001b[0m\n",
      "\u001b[0;32m/shared-libs/python3.7/py-core/lib/python3.7/site-packages/ipykernel/kernelbase.py\u001b[0m in \u001b[0;36m_input_request\u001b[0;34m(self, prompt, ident, parent, password)\u001b[0m\n\u001b[1;32m   1217\u001b[0m             \u001b[0;32mexcept\u001b[0m \u001b[0mKeyboardInterrupt\u001b[0m\u001b[0;34m:\u001b[0m\u001b[0;34m\u001b[0m\u001b[0;34m\u001b[0m\u001b[0m\n\u001b[1;32m   1218\u001b[0m                 \u001b[0;31m# re-raise KeyboardInterrupt, to truncate traceback\u001b[0m\u001b[0;34m\u001b[0m\u001b[0;34m\u001b[0m\u001b[0;34m\u001b[0m\u001b[0m\n\u001b[0;32m-> 1219\u001b[0;31m                 \u001b[0;32mraise\u001b[0m \u001b[0mKeyboardInterrupt\u001b[0m\u001b[0;34m(\u001b[0m\u001b[0;34m\"Interrupted by user\"\u001b[0m\u001b[0;34m)\u001b[0m \u001b[0;32mfrom\u001b[0m \u001b[0;32mNone\u001b[0m\u001b[0;34m\u001b[0m\u001b[0;34m\u001b[0m\u001b[0m\n\u001b[0m\u001b[1;32m   1220\u001b[0m             \u001b[0;32mexcept\u001b[0m \u001b[0mException\u001b[0m\u001b[0;34m:\u001b[0m\u001b[0;34m\u001b[0m\u001b[0;34m\u001b[0m\u001b[0m\n\u001b[1;32m   1221\u001b[0m                 \u001b[0mself\u001b[0m\u001b[0;34m.\u001b[0m\u001b[0mlog\u001b[0m\u001b[0;34m.\u001b[0m\u001b[0mwarning\u001b[0m\u001b[0;34m(\u001b[0m\u001b[0;34m\"Invalid Message:\"\u001b[0m\u001b[0;34m,\u001b[0m \u001b[0mexc_info\u001b[0m\u001b[0;34m=\u001b[0m\u001b[0;32mTrue\u001b[0m\u001b[0;34m)\u001b[0m\u001b[0;34m\u001b[0m\u001b[0;34m\u001b[0m\u001b[0m\n",
      "\u001b[0;31mKeyboardInterrupt\u001b[0m: Interrupted by user"
     ]
    }
   ]
  },
  {
   "cell_type": "markdown",
   "source": "## 3. Operations on strings",
   "metadata": {
    "cell_id": "68abbe81-4550-4fa9-8377-96a808990540",
    "tags": [],
    "deepnote_cell_type": "markdown",
    "deepnote_cell_height": 70
   }
  },
  {
   "cell_type": "code",
   "metadata": {
    "cell_id": "a3bcadf5-b9a7-481b-ae46-da57b2970678",
    "tags": [],
    "deepnote_to_be_reexecuted": true,
    "source_hash": "e9688799",
    "execution_start": 1663071519963,
    "execution_millis": 987,
    "deepnote_cell_type": "code",
    "deepnote_cell_height": 112,
    "deepnote_output_heights": [
     20
    ]
   },
   "source": "len('Hello World') #checks the length of a string",
   "outputs": [
    {
     "output_type": "execute_result",
     "execution_count": 27,
     "data": {
      "text/plain": "11"
     },
     "metadata": {}
    }
   ],
   "execution_count": null
  },
  {
   "cell_type": "code",
   "metadata": {
    "cell_id": "24aea60b-37c3-408d-a99c-b0edff443cfb",
    "tags": [],
    "deepnote_to_be_reexecuted": true,
    "source_hash": "3e7b78c2",
    "execution_start": 1663071519965,
    "execution_millis": 985,
    "deepnote_cell_type": "code",
    "deepnote_cell_height": 130,
    "deepnote_output_heights": [
     20
    ]
   },
   "source": "greeting = 'Hello World'\nlen(greeting)",
   "outputs": [
    {
     "output_type": "execute_result",
     "execution_count": 28,
     "data": {
      "text/plain": "11"
     },
     "metadata": {}
    }
   ],
   "execution_count": null
  },
  {
   "cell_type": "code",
   "metadata": {
    "cell_id": "2e85186e-0e5d-492a-9127-21096f03d5b3",
    "tags": [],
    "deepnote_to_be_reexecuted": true,
    "source_hash": "cc84ef80",
    "execution_start": 1663071519966,
    "execution_millis": 984,
    "deepnote_cell_type": "code",
    "deepnote_cell_height": 112,
    "deepnote_output_heights": [
     20
    ]
   },
   "source": "greeting[0]",
   "outputs": [
    {
     "output_type": "execute_result",
     "execution_count": 29,
     "data": {
      "text/plain": "'H'"
     },
     "metadata": {}
    }
   ],
   "execution_count": null
  },
  {
   "cell_type": "code",
   "metadata": {
    "cell_id": "dc9fe65d-d24f-4975-8826-72061edc35df",
    "tags": [],
    "deepnote_to_be_reexecuted": true,
    "source_hash": "b0a43ba5",
    "execution_start": 1663071519973,
    "execution_millis": 978,
    "deepnote_cell_type": "code",
    "deepnote_cell_height": 117,
    "deepnote_output_heights": [
     20
    ]
   },
   "source": "greeting[2:] #Python has some really cool string slicing options: we will learn them later",
   "outputs": [
    {
     "output_type": "execute_result",
     "execution_count": 30,
     "data": {
      "text/plain": "'llo World'"
     },
     "metadata": {}
    }
   ],
   "execution_count": null
  },
  {
   "cell_type": "code",
   "metadata": {
    "cell_id": "6b5e35ac-0484-4d07-8e47-0a299fa186eb",
    "tags": [],
    "deepnote_to_be_reexecuted": true,
    "source_hash": "ed02bbea",
    "execution_start": 1663071519975,
    "execution_millis": 977,
    "deepnote_cell_type": "code",
    "deepnote_cell_height": 112,
    "deepnote_output_heights": [
     20
    ]
   },
   "source": "greeting[::-1]",
   "outputs": [
    {
     "output_type": "execute_result",
     "execution_count": 31,
     "data": {
      "text/plain": "'dlroW olleH'"
     },
     "metadata": {}
    }
   ],
   "execution_count": null
  },
  {
   "cell_type": "code",
   "metadata": {
    "cell_id": "96160396-e532-42b4-be78-7fbcc0a328d6",
    "tags": [],
    "deepnote_to_be_reexecuted": true,
    "source_hash": "c14ef1fe",
    "execution_start": 1663071519977,
    "execution_millis": 976,
    "deepnote_cell_type": "code",
    "deepnote_cell_height": 130,
    "deepnote_output_heights": [
     20
    ]
   },
   "source": "name = \"alexei\"\nname.upper() # capitalises",
   "outputs": [
    {
     "output_type": "execute_result",
     "execution_count": 32,
     "data": {
      "text/plain": "'ALEXEI'"
     },
     "metadata": {}
    }
   ],
   "execution_count": null
  },
  {
   "cell_type": "code",
   "metadata": {
    "cell_id": "3437d3d1-7273-4d64-b827-2dce6bddf592",
    "tags": [],
    "deepnote_to_be_reexecuted": true,
    "source_hash": "f49969fa",
    "execution_start": 1663071519998,
    "execution_millis": 956,
    "deepnote_cell_type": "code",
    "deepnote_cell_height": 130,
    "deepnote_output_heights": [
     20
    ]
   },
   "source": "name = \"ALEXEI\"\nname.lower() # makes lower case",
   "outputs": [
    {
     "output_type": "execute_result",
     "execution_count": 33,
     "data": {
      "text/plain": "'alexei'"
     },
     "metadata": {}
    }
   ],
   "execution_count": null
  },
  {
   "cell_type": "code",
   "metadata": {
    "cell_id": "4ddea438-84b6-44ec-8463-733cc3f5ba18",
    "tags": [],
    "deepnote_to_be_reexecuted": true,
    "source_hash": "76b9e197",
    "execution_start": 1663071519999,
    "execution_millis": 955,
    "deepnote_cell_type": "code",
    "deepnote_cell_height": 166,
    "deepnote_output_heights": [
     20
    ]
   },
   "source": "name = \"Alex\"\ngreeting = \"Privet, \"\nconcatenated_message = greeting + name\nconcatenated_message",
   "outputs": [
    {
     "output_type": "execute_result",
     "execution_count": 34,
     "data": {
      "text/plain": "'Privet, Alex'"
     },
     "metadata": {}
    }
   ],
   "execution_count": null
  },
  {
   "cell_type": "code",
   "metadata": {
    "cell_id": "a537ad23-95f8-46a5-a01a-4735a905d453",
    "tags": [],
    "deepnote_to_be_reexecuted": true,
    "source_hash": "abd8970d",
    "execution_start": 1663071520000,
    "execution_millis": 954,
    "deepnote_cell_type": "code",
    "deepnote_cell_height": 142.859375
   },
   "source": "first_num = \"2\"\nsecond_num = \"2\"\nprint(first_num+second_num)",
   "outputs": [
    {
     "name": "stdout",
     "text": "22\n",
     "output_type": "stream"
    }
   ],
   "execution_count": null
  },
  {
   "cell_type": "code",
   "metadata": {
    "cell_id": "d4ceb4a5-b7ad-4e24-a48d-bb292944b0e9",
    "tags": [],
    "deepnote_to_be_reexecuted": true,
    "source_hash": "122b2615",
    "execution_start": 1663071520002,
    "execution_millis": 955,
    "deepnote_cell_type": "code",
    "deepnote_cell_height": 147.859375
   },
   "source": "first_num = \"2\"\nsecond_num = \"2\"\nprint(int(first_num)+int(second_num)) # first converts to integers and then adds",
   "outputs": [
    {
     "name": "stdout",
     "text": "4\n",
     "output_type": "stream"
    }
   ],
   "execution_count": null
  },
  {
   "cell_type": "code",
   "metadata": {
    "cell_id": "33fcd4bc-9c4c-4b25-9823-b0bd1b311ade",
    "tags": [],
    "deepnote_to_be_reexecuted": true,
    "source_hash": "ab8068a9",
    "execution_start": 1663071520091,
    "execution_millis": 901526,
    "deepnote_cell_type": "code",
    "deepnote_cell_height": 157.1875
   },
   "source": "name = input(\"What is your name?\")\nprint(\"Hello \" + name)",
   "outputs": [
    {
     "output_type": "error",
     "ename": "KeyboardInterrupt",
     "evalue": "Interrupted by user",
     "traceback": [
      "\u001b[0;31m---------------------------------------------------------------------------\u001b[0m",
      "\u001b[0;31mKeyboardInterrupt\u001b[0m                         Traceback (most recent call last)",
      "\u001b[0;32m/tmp/ipykernel_1076/2940008542.py\u001b[0m in \u001b[0;36m<module>\u001b[0;34m\u001b[0m\n\u001b[0;32m----> 1\u001b[0;31m \u001b[0mname\u001b[0m \u001b[0;34m=\u001b[0m \u001b[0minput\u001b[0m\u001b[0;34m(\u001b[0m\u001b[0;34m\"What is your name?\"\u001b[0m\u001b[0;34m)\u001b[0m\u001b[0;34m\u001b[0m\u001b[0;34m\u001b[0m\u001b[0m\n\u001b[0m\u001b[1;32m      2\u001b[0m \u001b[0mprint\u001b[0m\u001b[0;34m(\u001b[0m\u001b[0;34m\"Hello \"\u001b[0m \u001b[0;34m+\u001b[0m \u001b[0mname\u001b[0m\u001b[0;34m)\u001b[0m\u001b[0;34m\u001b[0m\u001b[0;34m\u001b[0m\u001b[0m\n",
      "\u001b[0;32m/shared-libs/python3.7/py-core/lib/python3.7/site-packages/ipykernel/kernelbase.py\u001b[0m in \u001b[0;36mraw_input\u001b[0;34m(self, prompt)\u001b[0m\n\u001b[1;32m   1179\u001b[0m             \u001b[0mself\u001b[0m\u001b[0;34m.\u001b[0m\u001b[0m_parent_ident\u001b[0m\u001b[0;34m[\u001b[0m\u001b[0;34m\"shell\"\u001b[0m\u001b[0;34m]\u001b[0m\u001b[0;34m,\u001b[0m\u001b[0;34m\u001b[0m\u001b[0;34m\u001b[0m\u001b[0m\n\u001b[1;32m   1180\u001b[0m             \u001b[0mself\u001b[0m\u001b[0;34m.\u001b[0m\u001b[0mget_parent\u001b[0m\u001b[0;34m(\u001b[0m\u001b[0;34m\"shell\"\u001b[0m\u001b[0;34m)\u001b[0m\u001b[0;34m,\u001b[0m\u001b[0;34m\u001b[0m\u001b[0;34m\u001b[0m\u001b[0m\n\u001b[0;32m-> 1181\u001b[0;31m             \u001b[0mpassword\u001b[0m\u001b[0;34m=\u001b[0m\u001b[0;32mFalse\u001b[0m\u001b[0;34m,\u001b[0m\u001b[0;34m\u001b[0m\u001b[0;34m\u001b[0m\u001b[0m\n\u001b[0m\u001b[1;32m   1182\u001b[0m         )\n\u001b[1;32m   1183\u001b[0m \u001b[0;34m\u001b[0m\u001b[0m\n",
      "\u001b[0;32m/shared-libs/python3.7/py-core/lib/python3.7/site-packages/ipykernel/kernelbase.py\u001b[0m in \u001b[0;36m_input_request\u001b[0;34m(self, prompt, ident, parent, password)\u001b[0m\n\u001b[1;32m   1217\u001b[0m             \u001b[0;32mexcept\u001b[0m \u001b[0mKeyboardInterrupt\u001b[0m\u001b[0;34m:\u001b[0m\u001b[0;34m\u001b[0m\u001b[0;34m\u001b[0m\u001b[0m\n\u001b[1;32m   1218\u001b[0m                 \u001b[0;31m# re-raise KeyboardInterrupt, to truncate traceback\u001b[0m\u001b[0;34m\u001b[0m\u001b[0;34m\u001b[0m\u001b[0;34m\u001b[0m\u001b[0m\n\u001b[0;32m-> 1219\u001b[0;31m                 \u001b[0;32mraise\u001b[0m \u001b[0mKeyboardInterrupt\u001b[0m\u001b[0;34m(\u001b[0m\u001b[0;34m\"Interrupted by user\"\u001b[0m\u001b[0;34m)\u001b[0m \u001b[0;32mfrom\u001b[0m \u001b[0;32mNone\u001b[0m\u001b[0;34m\u001b[0m\u001b[0;34m\u001b[0m\u001b[0m\n\u001b[0m\u001b[1;32m   1220\u001b[0m             \u001b[0;32mexcept\u001b[0m \u001b[0mException\u001b[0m\u001b[0;34m:\u001b[0m\u001b[0;34m\u001b[0m\u001b[0;34m\u001b[0m\u001b[0m\n\u001b[1;32m   1221\u001b[0m                 \u001b[0mself\u001b[0m\u001b[0;34m.\u001b[0m\u001b[0mlog\u001b[0m\u001b[0;34m.\u001b[0m\u001b[0mwarning\u001b[0m\u001b[0;34m(\u001b[0m\u001b[0;34m\"Invalid Message:\"\u001b[0m\u001b[0;34m,\u001b[0m \u001b[0mexc_info\u001b[0m\u001b[0;34m=\u001b[0m\u001b[0;32mTrue\u001b[0m\u001b[0;34m)\u001b[0m\u001b[0;34m\u001b[0m\u001b[0;34m\u001b[0m\u001b[0m\n",
      "\u001b[0;31mKeyboardInterrupt\u001b[0m: Interrupted by user"
     ]
    }
   ],
   "execution_count": null
  },
  {
   "cell_type": "code",
   "metadata": {
    "cell_id": "0f470016-8b9a-47ba-bcd9-ddd28dabdc9c",
    "tags": [],
    "deepnote_to_be_reexecuted": true,
    "source_hash": "c7387fe5",
    "execution_start": 1663070732323,
    "execution_millis": 17067,
    "deepnote_cell_type": "code",
    "deepnote_cell_height": 124.859375
   },
   "source": "name = input(\"What is your name?\")\nprint(\"Hello \" + name.upper() + \"!\")",
   "execution_count": null,
   "outputs": [
    {
     "name": "stdout",
     "text": "Hello CAITLIN!\n",
     "output_type": "stream"
    }
   ]
  },
  {
   "cell_type": "code",
   "metadata": {
    "cell_id": "c40d95b7-37c4-4f1f-92ab-0ad9ad4cdf7a",
    "tags": [],
    "deepnote_to_be_reexecuted": true,
    "source_hash": "8e9ec36e",
    "execution_start": 1663070749392,
    "execution_millis": 14839,
    "deepnote_cell_type": "code",
    "deepnote_cell_height": 142.859375
   },
   "source": "apples = int(input(\"How many apples would you like?\"))\nprint(\"🍎\" * apples)\n",
   "execution_count": null,
   "outputs": [
    {
     "name": "stdout",
     "text": "🍎🍎🍎🍎🍎\n",
     "output_type": "stream"
    }
   ]
  },
  {
   "cell_type": "markdown",
   "source": "## 🏋️🏋️ **In pairs** or individually 🏋️\n\n- create a conversation that takes user input and prints something funny using the input",
   "metadata": {
    "cell_id": "f3f288d1-5fa2-4d60-8d14-651668909909",
    "tags": [],
    "deepnote_cell_type": "markdown",
    "deepnote_cell_height": 122.390625
   }
  },
  {
   "cell_type": "code",
   "source": "len('Hello')\nname = input(\"what is your name?\")\nprint(\"Hello \" + name)\nmen_lifting_weights_emojis = int(input(\"How many men lifting weights emojis would you like?\"))\nprint(\"🏋️\" * men_lifting_weights_emojis)\nlen('Thank_you_and_Goodbye')",
   "metadata": {
    "cell_id": "d243f865323543adb960761a8538ab8a",
    "tags": [],
    "deepnote_to_be_reexecuted": false,
    "source_hash": "4ce3fdb0",
    "execution_start": 1663073914474,
    "execution_millis": 6832,
    "deepnote_cell_type": "code",
    "deepnote_cell_height": 330,
    "deepnote_output_heights": [
     null,
     20.1875
    ]
   },
   "execution_count": 30,
   "outputs": [
    {
     "name": "stdout",
     "text": "Hello caitlin \n🏋️🏋️🏋️\n",
     "output_type": "stream"
    },
    {
     "output_type": "execute_result",
     "execution_count": 30,
     "data": {
      "text/plain": "21"
     },
     "metadata": {}
    }
   ]
  },
  {
   "cell_type": "markdown",
   "source": "<a style='text-decoration:none;line-height:16px;display:flex;color:#5B5B62;padding:10px;justify-content:end;' href='https://deepnote.com?utm_source=created-in-deepnote-cell&projectId=05dda23b-66a0-4b9c-81cb-f1c60ed83179' target=\"_blank\">\n<img alt='Created in deepnote.com' style='display:inline;max-height:16px;margin:0px;margin-right:7.5px;' src='data:image/svg+xml;base64,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' > </img>\nCreated in <span style='font-weight:600;margin-left:4px;'>Deepnote</span></a>",
   "metadata": {
    "tags": [],
    "created_in_deepnote_cell": true,
    "deepnote_cell_type": "markdown"
   }
  }
 ],
 "nbformat": 4,
 "nbformat_minor": 2,
 "metadata": {
  "orig_nbformat": 2,
  "deepnote": {
   "is_reactive": false
  },
  "deepnote_notebook_id": "c1ab5047-a253-4a3e-8dc6-5e45d48590b3",
  "deepnote_execution_queue": [],
  "deepnote_persisted_session": {
   "createdAt": "2022-09-13T11:30:22.479Z"
  }
 }
}